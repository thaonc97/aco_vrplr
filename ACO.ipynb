{
 "cells": [
  {
   "cell_type": "code",
   "execution_count": 1,
   "metadata": {},
   "outputs": [],
   "source": [
    "import numpy as np\n",
    "import matplotlib.pyplot as plt\n",
    "from docplex.mp.model import Model\n",
    "from itertools import cycle"
   ]
  },
  {
   "cell_type": "code",
   "execution_count": 2,
   "metadata": {},
   "outputs": [],
   "source": [
    "rnd = np.random\n",
    "rnd.seed(10)"
   ]
  },
  {
   "cell_type": "code",
   "execution_count": 3,
   "metadata": {},
   "outputs": [],
   "source": [
    "class Ant:\n",
    "    ants_num =0\n",
    "    \n",
    "    def __init__(self):\n",
    "        self.visited = [0]\n",
    "        self.tour_length= 0\n",
    "        Ant.ants_num +=1\n",
    "        self.capacity =1000\n",
    "        self.location = 0\n",
    "    \n",
    "    def lost_memory(self):\n",
    "        self.visited = [0]\n",
    "        self.tour_length= 0\n",
    "        Ant.ants_num +=1\n",
    "        self.capacity =1000\n",
    "        self.location = 0"
   ]
  },
  {
   "cell_type": "code",
   "execution_count": 4,
   "metadata": {},
   "outputs": [],
   "source": [
    "#Parameters Declare:\n",
    "n =50 #number of clients\n",
    "H = 3 # number of time periods\n",
    "T = np.arange(1,H+1) # Time horizon index\n",
    "\n",
    "r_sub = rnd.randint(10,100,size = n+1)\n",
    "r = r_sub\n",
    "for i in range(H-1):\n",
    "    r =np.column_stack((r,r_sub))\n",
    "    \n",
    "r[0] = np.zeros((H,),dtype = int)\n",
    "for i in range(1,n+1):\n",
    "    r[0] = r[0]+ r[i] #made available units in depot\n",
    "N_phay = np.arange(1,n+1) #client index\n",
    "N = np.arange(0,n+1) #node index\n",
    "U = rnd.choice((2,3),1)[0]*r[:,1] #maximum inventory level\n",
    "I_0 = U-r[:,1] #Initial inventory level array\n",
    "I_0[0]=np.sum(U[1:])\n",
    "h =  rnd.randint(1,5,size =n+1) #holding cost\n",
    "h[0] = 3\n",
    "m = 3\n",
    "Q = 3/(2*m)*np.sum(r[1:,1]) # vehicle capacity"
   ]
  },
  {
   "cell_type": "code",
   "execution_count": 5,
   "metadata": {
    "scrolled": false
   },
   "outputs": [
    {
     "data": {
      "image/png": "[encoded data removed]",
      "text/plain": [
       "<Figure size 432x288 with 1 Axes>"
      ]
     },
     "metadata": {
      "needs_background": "light"
     },
     "output_type": "display_data"
    }
   ],
   "source": [
    "#Create locations\n",
    "loc_x = rnd.rand(len(N))*5000\n",
    "loc_y = rnd.rand(len(N))*5000\n",
    "\n",
    "plt.scatter(loc_x[1:],loc_y[1:], c = 'b')\n",
    "plt.scatter(loc_x[0],loc_y[0],c ='r')\n",
    "plt.title('Location Map')\n",
    "plt.show()"
   ]
  },
  {
   "cell_type": "code",
   "execution_count": 6,
   "metadata": {
    "scrolled": false
   },
   "outputs": [
    {
     "name": "stderr",
     "output_type": "stream",
     "text": [
      "C:\\ProgramData\\Anaconda3\\lib\\site-packages\\ipykernel_launcher.py:3: RuntimeWarning: divide by zero encountered in true_divide\n",
      "  This is separate from the ipykernel package so we can avoid doing imports until\n"
     ]
    }
   ],
   "source": [
    "cost_dict = {(i,j): round(np.hypot(loc_x[i]-loc_x[j],loc_y[i]-loc_y[j])) for i in N for j in N if i!=j} #Moving cost matrix\n",
    "cost = np.array([[round(np.hypot(loc_x[i]-loc_x[j],loc_y[i]-loc_y[j])) for i in N]for j in N])\n",
    "eta = 1/np.array(cost)\n",
    "tau_0 = 10**-5\n",
    "tau = np.ones([n+1,n+1])*tau_0\n",
    "pheromone = eta\n",
    "alpha =0.5 #evaporation rate\n",
    "q_0 = .9\n",
    "beta = 1.3\n",
    "choice_info = np.multiply(tau,eta**beta)\n",
    "best_tour = []\n",
    "best_tour_length = np.inf\n",
    "tour_length_list = []"
   ]
  },
  {
   "cell_type": "code",
   "execution_count": 7,
   "metadata": {},
   "outputs": [],
   "source": [
    "def construct_sol(ant):\n",
    "    temp_choice_info = choice_info.copy()\n",
    "    \n",
    "    while len(ant.visited) <= n:\n",
    "        cur_loc = ant.location\n",
    "        choice_available = temp_choice_info[cur_loc]\n",
    "        temp_choice_info[:,cur_loc] =0\n",
    "        q =np.random.rand()\n",
    "        if q < q_0:\n",
    "            ant.location = np.argmax(choice_available)\n",
    "        else :\n",
    "            prob = choice_available/np.sum(choice_available)\n",
    "            ant.location =rnd.choice(N,p =prob)\n",
    "            \n",
    "        ant.visited.append(ant.location)\n",
    "        ant.tour_length += cost[cur_loc,ant.location]\n",
    "        \n",
    "    ant.tour_length += cost[ant.location,0]\n",
    "    ant.visited.append(0)"
   ]
  },
  {
   "cell_type": "code",
   "execution_count": 8,
   "metadata": {},
   "outputs": [],
   "source": [
    "def local_update(ant):\n",
    "    global tau\n",
    "    global choice_info\n",
    "    for i in range(len(ant.visited)-1):\n",
    "        a = ant.visited[i]\n",
    "        b= ant.visited[i+1]\n",
    "        tau[a,b] += (1-alpha)*tau[a,b] +alpha*tau_0\n",
    "        tau[b,a] =tau[a,b]\n",
    "        choice_info = np.multiply(tau,eta**beta)\n",
    "        \n",
    "def global_update():\n",
    "    global tau\n",
    "    global choice_info\n",
    "    tau =(1-alpha)*tau +0.01*alpha/best_tour_length\n",
    "    choice_info = np.multiply(tau,eta**beta)"
   ]
  },
  {
   "cell_type": "code",
   "execution_count": 9,
   "metadata": {
    "scrolled": true
   },
   "outputs": [
    {
     "name": "stdout",
     "output_type": "stream",
     "text": [
      "current_best 33776\n",
      "t=  0\n",
      "t=  10\n",
      "t=  20\n",
      "t=  30\n",
      "t=  40\n",
      "t=  50\n",
      "t=  60\n",
      "t=  70\n",
      "t=  80\n",
      "t=  90\n",
      "t=  100\n",
      "t=  110\n",
      "t=  120\n",
      "t=  130\n",
      "t=  140\n",
      "t=  150\n",
      "t=  160\n",
      "t=  170\n",
      "t=  180\n",
      "t=  190\n",
      "t=  200\n",
      "t=  210\n",
      "t=  220\n",
      "t=  230\n",
      "t=  240\n",
      "t=  250\n",
      "t=  260\n",
      "t=  270\n",
      "t=  280\n",
      "t=  290\n",
      "t=  300\n",
      "t=  310\n",
      "t=  320\n",
      "t=  330\n",
      "t=  340\n",
      "t=  350\n",
      "t=  360\n",
      "t=  370\n",
      "t=  380\n",
      "t=  390\n",
      "t=  400\n",
      "t=  410\n",
      "t=  420\n",
      "t=  430\n",
      "t=  440\n",
      "t=  450\n",
      "t=  460\n",
      "t=  470\n",
      "t=  480\n",
      "t=  490\n",
      "t=  500\n",
      "t=  510\n",
      "t=  520\n",
      "t=  530\n",
      "t=  540\n",
      "t=  550\n",
      "t=  560\n",
      "t=  570\n",
      "t=  580\n",
      "t=  590\n",
      "t=  600\n",
      "t=  610\n",
      "t=  620\n",
      "t=  630\n",
      "t=  640\n",
      "t=  650\n",
      "t=  660\n",
      "t=  670\n",
      "t=  680\n",
      "t=  690\n",
      "t=  700\n",
      "t=  710\n",
      "t=  720\n",
      "t=  730\n",
      "t=  740\n",
      "t=  750\n",
      "t=  760\n",
      "t=  770\n",
      "t=  780\n",
      "t=  790\n",
      "t=  800\n",
      "t=  810\n",
      "t=  820\n",
      "t=  830\n",
      "t=  840\n",
      "t=  850\n",
      "t=  860\n",
      "t=  870\n",
      "t=  880\n",
      "t=  890\n",
      "t=  900\n",
      "t=  910\n",
      "t=  920\n",
      "t=  930\n",
      "t=  940\n",
      "t=  950\n",
      "t=  960\n",
      "t=  970\n",
      "t=  980\n",
      "t=  990\n",
      "t=  1000\n",
      "t=  1010\n",
      "t=  1020\n",
      "t=  1030\n",
      "t=  1040\n",
      "t=  1050\n",
      "t=  1060\n",
      "t=  1070\n",
      "t=  1080\n",
      "t=  1090\n",
      "t=  1100\n",
      "t=  1110\n",
      "t=  1120\n",
      "t=  1130\n",
      "t=  1140\n",
      "t=  1150\n",
      "t=  1160\n",
      "t=  1170\n",
      "t=  1180\n",
      "t=  1190\n",
      "t=  1200\n",
      "t=  1210\n",
      "t=  1220\n",
      "t=  1230\n",
      "t=  1240\n",
      "t=  1250\n",
      "t=  1260\n",
      "t=  1270\n",
      "t=  1280\n",
      "t=  1290\n",
      "t=  1300\n",
      "t=  1310\n",
      "t=  1320\n",
      "t=  1330\n",
      "t=  1340\n",
      "t=  1350\n",
      "t=  1360\n",
      "t=  1370\n",
      "t=  1380\n",
      "t=  1390\n",
      "t=  1400\n",
      "t=  1410\n",
      "t=  1420\n",
      "t=  1430\n",
      "t=  1440\n",
      "t=  1450\n",
      "t=  1460\n",
      "t=  1470\n",
      "t=  1480\n",
      "t=  1490\n",
      "t=  1500\n",
      "t=  1510\n",
      "t=  1520\n",
      "t=  1530\n",
      "t=  1540\n",
      "t=  1550\n",
      "t=  1560\n",
      "t=  1570\n",
      "t=  1580\n",
      "t=  1590\n",
      "t=  1600\n",
      "t=  1610\n",
      "t=  1620\n",
      "t=  1630\n",
      "t=  1640\n",
      "t=  1650\n",
      "t=  1660\n",
      "t=  1670\n",
      "t=  1680\n",
      "t=  1690\n",
      "t=  1700\n",
      "t=  1710\n",
      "t=  1720\n",
      "t=  1730\n",
      "t=  1740\n",
      "t=  1750\n",
      "t=  1760\n",
      "t=  1770\n",
      "t=  1780\n",
      "t=  1790\n",
      "t=  1800\n",
      "t=  1810\n",
      "t=  1820\n",
      "t=  1830\n",
      "t=  1840\n",
      "t=  1850\n",
      "t=  1860\n",
      "t=  1870\n",
      "t=  1880\n",
      "t=  1890\n",
      "t=  1900\n",
      "t=  1910\n",
      "t=  1920\n",
      "t=  1930\n",
      "t=  1940\n",
      "t=  1950\n",
      "t=  1960\n",
      "t=  1970\n",
      "t=  1980\n",
      "t=  1990\n",
      "t=  2000\n",
      "t=  2010\n",
      "t=  2020\n",
      "t=  2030\n",
      "t=  2040\n",
      "t=  2050\n",
      "t=  2060\n",
      "t=  2070\n",
      "t=  2080\n",
      "t=  2090\n",
      "t=  2100\n",
      "t=  2110\n",
      "t=  2120\n",
      "t=  2130\n",
      "t=  2140\n"
     ]
    },
    {
     "name": "stderr",
     "output_type": "stream",
     "text": [
      "C:\\ProgramData\\Anaconda3\\lib\\site-packages\\ipykernel_launcher.py:7: RuntimeWarning: overflow encountered in double_scalars\n",
      "  import sys\n",
      "C:\\ProgramData\\Anaconda3\\lib\\site-packages\\ipykernel_launcher.py:13: RuntimeWarning: invalid value encountered in true_divide\n",
      "  del sys.path[0]\n"
     ]
    },
    {
     "ename": "ValueError",
     "evalue": "probabilities contain NaN",
     "output_type": "error",
     "traceback": [
      "\u001b[1;31m---------------------------------------------------------------------------\u001b[0m",
      "\u001b[1;31mValueError\u001b[0m                                Traceback (most recent call last)",
      "\u001b[1;32m<ipython-input-9-f057dd761b4d>\u001b[0m in \u001b[0;36m<module>\u001b[1;34m\u001b[0m\n\u001b[0;32m      2\u001b[0m \u001b[1;32mfor\u001b[0m \u001b[0mt\u001b[0m \u001b[1;32min\u001b[0m \u001b[0mrange\u001b[0m\u001b[1;33m(\u001b[0m\u001b[1;36m5000\u001b[0m\u001b[1;33m)\u001b[0m\u001b[1;33m:\u001b[0m\u001b[1;33m\u001b[0m\u001b[1;33m\u001b[0m\u001b[0m\n\u001b[0;32m      3\u001b[0m     \u001b[0mthis_cute_ant\u001b[0m\u001b[1;33m.\u001b[0m\u001b[0mlost_memory\u001b[0m\u001b[1;33m(\u001b[0m\u001b[1;33m)\u001b[0m\u001b[1;33m\u001b[0m\u001b[1;33m\u001b[0m\u001b[0m\n\u001b[1;32m----> 4\u001b[1;33m     \u001b[0mconstruct_sol\u001b[0m\u001b[1;33m(\u001b[0m\u001b[0mthis_cute_ant\u001b[0m\u001b[1;33m)\u001b[0m\u001b[1;33m\u001b[0m\u001b[1;33m\u001b[0m\u001b[0m\n\u001b[0m\u001b[0;32m      5\u001b[0m     \u001b[0mtour_length_list\u001b[0m\u001b[1;33m.\u001b[0m\u001b[0mappend\u001b[0m\u001b[1;33m(\u001b[0m\u001b[0mthis_cute_ant\u001b[0m\u001b[1;33m.\u001b[0m\u001b[0mtour_length\u001b[0m\u001b[1;33m)\u001b[0m\u001b[1;33m\u001b[0m\u001b[1;33m\u001b[0m\u001b[0m\n\u001b[0;32m      6\u001b[0m     \u001b[1;32mif\u001b[0m \u001b[0mbest_tour_length\u001b[0m \u001b[1;33m>\u001b[0m \u001b[0mthis_cute_ant\u001b[0m\u001b[1;33m.\u001b[0m\u001b[0mtour_length\u001b[0m\u001b[1;33m:\u001b[0m\u001b[1;33m\u001b[0m\u001b[1;33m\u001b[0m\u001b[0m\n",
      "\u001b[1;32m<ipython-input-7-f94f62e6bf50>\u001b[0m in \u001b[0;36mconstruct_sol\u001b[1;34m(ant)\u001b[0m\n\u001b[0;32m     12\u001b[0m         \u001b[1;32melse\u001b[0m \u001b[1;33m:\u001b[0m\u001b[1;33m\u001b[0m\u001b[1;33m\u001b[0m\u001b[0m\n\u001b[0;32m     13\u001b[0m             \u001b[0mprob\u001b[0m \u001b[1;33m=\u001b[0m \u001b[0mchoice_available\u001b[0m\u001b[1;33m/\u001b[0m\u001b[0mnp\u001b[0m\u001b[1;33m.\u001b[0m\u001b[0msum\u001b[0m\u001b[1;33m(\u001b[0m\u001b[0mchoice_available\u001b[0m\u001b[1;33m)\u001b[0m\u001b[1;33m\u001b[0m\u001b[1;33m\u001b[0m\u001b[0m\n\u001b[1;32m---> 14\u001b[1;33m             \u001b[0mant\u001b[0m\u001b[1;33m.\u001b[0m\u001b[0mlocation\u001b[0m \u001b[1;33m=\u001b[0m\u001b[0mrnd\u001b[0m\u001b[1;33m.\u001b[0m\u001b[0mchoice\u001b[0m\u001b[1;33m(\u001b[0m\u001b[0mN\u001b[0m\u001b[1;33m,\u001b[0m\u001b[0mp\u001b[0m \u001b[1;33m=\u001b[0m\u001b[0mprob\u001b[0m\u001b[1;33m)\u001b[0m\u001b[1;33m\u001b[0m\u001b[1;33m\u001b[0m\u001b[0m\n\u001b[0m\u001b[0;32m     15\u001b[0m \u001b[1;33m\u001b[0m\u001b[0m\n\u001b[0;32m     16\u001b[0m         \u001b[0mant\u001b[0m\u001b[1;33m.\u001b[0m\u001b[0mvisited\u001b[0m\u001b[1;33m.\u001b[0m\u001b[0mappend\u001b[0m\u001b[1;33m(\u001b[0m\u001b[0mant\u001b[0m\u001b[1;33m.\u001b[0m\u001b[0mlocation\u001b[0m\u001b[1;33m)\u001b[0m\u001b[1;33m\u001b[0m\u001b[1;33m\u001b[0m\u001b[0m\n",
      "\u001b[1;32mmtrand.pyx\u001b[0m in \u001b[0;36mnumpy.random.mtrand.RandomState.choice\u001b[1;34m()\u001b[0m\n",
      "\u001b[1;31mValueError\u001b[0m: probabilities contain NaN"
     ]
    }
   ],
   "source": [
    "this_cute_ant= Ant()\n",
    "for t in range(5000):\n",
    "    this_cute_ant.lost_memory()\n",
    "    construct_sol(this_cute_ant)\n",
    "    tour_length_list.append(this_cute_ant.tour_length)\n",
    "    if best_tour_length > this_cute_ant.tour_length:\n",
    "        best_tour_length = this_cute_ant.tour_length\n",
    "        best_tour = this_cute_ant.visited\n",
    "        print(\"current_best\", best_tour_length)\n",
    "    local_update(this_cute_ant)\n",
    "    if t%10==0:\n",
    "        global_update()\n",
    "        print(\"t= \",t)"
   ]
  },
  {
   "cell_type": "code",
   "execution_count": null,
   "metadata": {
    "scrolled": true
   },
   "outputs": [],
   "source": [
    "choice_info[0]"
   ]
  },
  {
   "cell_type": "code",
   "execution_count": null,
   "metadata": {
    "scrolled": false
   },
   "outputs": [],
   "source": [
    "plt.plot(tour_length_list)"
   ]
  },
  {
   "cell_type": "code",
   "execution_count": 14,
   "metadata": {},
   "outputs": [
    {
     "data": {
      "text/plain": [
       "[1, 2]"
      ]
     },
     "execution_count": 14,
     "metadata": {},
     "output_type": "execute_result"
    }
   ],
   "source": [
    "a = [1,2]\n",
    "b=a.copy()"
   ]
  }
 ],
 "metadata": {
  "kernelspec": {
   "display_name": "Python 3",
   "language": "python",
   "name": "python3"
  },
  "language_info": {
   "codemirror_mode": {
    "name": "ipython",
    "version": 3
   },
   "file_extension": ".py",
   "mimetype": "text/x-python",
   "name": "python",
   "nbconvert_exporter": "python",
   "pygments_lexer": "ipython3",
   "version": "3.7.7"
  }
 },
 "nbformat": 4,
 "nbformat_minor": 4
}
